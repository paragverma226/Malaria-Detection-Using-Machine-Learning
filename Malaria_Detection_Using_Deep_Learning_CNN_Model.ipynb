{
 "cells": [
  {
   "cell_type": "code",
   "execution_count": 1,
   "id": "a098c5cf",
   "metadata": {},
   "outputs": [],
   "source": [
    "# import the libraries as shown below\n",
    "\n",
    "from tensorflow.keras.layers import Input, Lambda, Dense, Flatten,Conv2D\n",
    "from tensorflow.keras.models import Model\n",
    "from tensorflow.keras.applications.vgg19 import VGG19\n",
    "from tensorflow.keras.applications.resnet50 import preprocess_input\n",
    "from tensorflow.keras.preprocessing import image\n",
    "from tensorflow.keras.preprocessing.image import ImageDataGenerator,load_img\n",
    "from tensorflow.keras.models import Sequential\n",
    "import numpy as np\n",
    "from glob import glob\n",
    "import matplotlib.pyplot as plt"
   ]
  },
  {
   "cell_type": "code",
   "execution_count": 2,
   "id": "ab5fc2b0",
   "metadata": {},
   "outputs": [
    {
     "data": {
      "text/plain": [
       "('2.3.0', '2.4.3')"
      ]
     },
     "execution_count": 2,
     "metadata": {},
     "output_type": "execute_result"
    }
   ],
   "source": [
    "# Before creating and executing the model let's check the version of directories.\n",
    "import tensorflow\n",
    "import keras\n",
    "tensorflow.__version__, keras.__version__"
   ]
  },
  {
   "cell_type": "code",
   "execution_count": 3,
   "id": "d5160163",
   "metadata": {},
   "outputs": [],
   "source": [
    "#  re-size all the images to this\n",
    "IMAGE_SIZE = [224,224]"
   ]
  },
  {
   "cell_type": "code",
   "execution_count": 4,
   "id": "fd2379eb",
   "metadata": {},
   "outputs": [],
   "source": [
    "tarin_path = 'Malaria_Detection_Dataset/Train'\n",
    "test_path = 'Malaria_Detection_Dataset/Test'"
   ]
  },
  {
   "cell_type": "code",
   "execution_count": 5,
   "id": "1567bed7",
   "metadata": {},
   "outputs": [],
   "source": [
    "# Import the Vgg16 Library as shown below and add preprocessing layer to the frequency\n",
    "# Here we will be using imagenet weights\n",
    "# add preprocessing layer to the front of VGG\n",
    "vgg = VGG19(input_shape=IMAGE_SIZE + [3], weights='imagenet', include_top=False)"
   ]
  },
  {
   "cell_type": "code",
   "execution_count": 6,
   "id": "42829e99",
   "metadata": {},
   "outputs": [],
   "source": [
    "# don't train existing weights\n",
    "for layer in vgg.layers:\n",
    "    layer.trainable = False"
   ]
  },
  {
   "cell_type": "code",
   "execution_count": 7,
   "id": "eee822a3",
   "metadata": {},
   "outputs": [],
   "source": [
    "# useful for getting number of classes\n",
    "folders = glob('Malaria_Detection_Dataset/Train/*')"
   ]
  },
  {
   "cell_type": "code",
   "execution_count": 8,
   "id": "f6cf8d2f",
   "metadata": {},
   "outputs": [
    {
     "name": "stdout",
     "output_type": "stream",
     "text": [
      "Model: \"functional_1\"\n",
      "_________________________________________________________________\n",
      "Layer (type)                 Output Shape              Param #   \n",
      "=================================================================\n",
      "input_1 (InputLayer)         [(None, 224, 224, 3)]     0         \n",
      "_________________________________________________________________\n",
      "block1_conv1 (Conv2D)        (None, 224, 224, 64)      1792      \n",
      "_________________________________________________________________\n",
      "block1_conv2 (Conv2D)        (None, 224, 224, 64)      36928     \n",
      "_________________________________________________________________\n",
      "block1_pool (MaxPooling2D)   (None, 112, 112, 64)      0         \n",
      "_________________________________________________________________\n",
      "block2_conv1 (Conv2D)        (None, 112, 112, 128)     73856     \n",
      "_________________________________________________________________\n",
      "block2_conv2 (Conv2D)        (None, 112, 112, 128)     147584    \n",
      "_________________________________________________________________\n",
      "block2_pool (MaxPooling2D)   (None, 56, 56, 128)       0         \n",
      "_________________________________________________________________\n",
      "block3_conv1 (Conv2D)        (None, 56, 56, 256)       295168    \n",
      "_________________________________________________________________\n",
      "block3_conv2 (Conv2D)        (None, 56, 56, 256)       590080    \n",
      "_________________________________________________________________\n",
      "block3_conv3 (Conv2D)        (None, 56, 56, 256)       590080    \n",
      "_________________________________________________________________\n",
      "block3_conv4 (Conv2D)        (None, 56, 56, 256)       590080    \n",
      "_________________________________________________________________\n",
      "block3_pool (MaxPooling2D)   (None, 28, 28, 256)       0         \n",
      "_________________________________________________________________\n",
      "block4_conv1 (Conv2D)        (None, 28, 28, 512)       1180160   \n",
      "_________________________________________________________________\n",
      "block4_conv2 (Conv2D)        (None, 28, 28, 512)       2359808   \n",
      "_________________________________________________________________\n",
      "block4_conv3 (Conv2D)        (None, 28, 28, 512)       2359808   \n",
      "_________________________________________________________________\n",
      "block4_conv4 (Conv2D)        (None, 28, 28, 512)       2359808   \n",
      "_________________________________________________________________\n",
      "block4_pool (MaxPooling2D)   (None, 14, 14, 512)       0         \n",
      "_________________________________________________________________\n",
      "block5_conv1 (Conv2D)        (None, 14, 14, 512)       2359808   \n",
      "_________________________________________________________________\n",
      "block5_conv2 (Conv2D)        (None, 14, 14, 512)       2359808   \n",
      "_________________________________________________________________\n",
      "block5_conv3 (Conv2D)        (None, 14, 14, 512)       2359808   \n",
      "_________________________________________________________________\n",
      "block5_conv4 (Conv2D)        (None, 14, 14, 512)       2359808   \n",
      "_________________________________________________________________\n",
      "block5_pool (MaxPooling2D)   (None, 7, 7, 512)         0         \n",
      "_________________________________________________________________\n",
      "flatten (Flatten)            (None, 25088)             0         \n",
      "_________________________________________________________________\n",
      "dense (Dense)                (None, 2)                 50178     \n",
      "=================================================================\n",
      "Total params: 20,074,562\n",
      "Trainable params: 50,178\n",
      "Non-trainable params: 20,024,384\n",
      "_________________________________________________________________\n"
     ]
    }
   ],
   "source": [
    "# Our Flatten layers: User can add more if they want to add\n",
    "x = Flatten()(vgg.output)\n",
    "# x = Dense(1000, activation='relu')(x)\n",
    "prediction = Dense(len(folders), activation='softmax')(x)\n",
    "# Creating a initialized model object\n",
    "model = Model(inputs=vgg.input, outputs=prediction)\n",
    "\n",
    "model.summary()"
   ]
  },
  {
   "cell_type": "code",
   "execution_count": 9,
   "id": "21663dce",
   "metadata": {},
   "outputs": [
    {
     "name": "stdout",
     "output_type": "stream",
     "text": [
      "Model: \"sequential\"\n",
      "_________________________________________________________________\n",
      "Layer (type)                 Output Shape              Param #   \n",
      "=================================================================\n",
      "conv2d (Conv2D)              (None, 224, 224, 16)      208       \n",
      "_________________________________________________________________\n",
      "max_pooling2d (MaxPooling2D) (None, 112, 112, 16)      0         \n",
      "_________________________________________________________________\n",
      "conv2d_1 (Conv2D)            (None, 112, 112, 32)      2080      \n",
      "_________________________________________________________________\n",
      "max_pooling2d_1 (MaxPooling2 (None, 56, 56, 32)        0         \n",
      "_________________________________________________________________\n",
      "conv2d_2 (Conv2D)            (None, 56, 56, 64)        8256      \n",
      "_________________________________________________________________\n",
      "max_pooling2d_2 (MaxPooling2 (None, 28, 28, 64)        0         \n",
      "_________________________________________________________________\n",
      "flatten_1 (Flatten)          (None, 50176)             0         \n",
      "_________________________________________________________________\n",
      "dense_1 (Dense)              (None, 500)               25088500  \n",
      "_________________________________________________________________\n",
      "dense_2 (Dense)              (None, 2)                 1002      \n",
      "=================================================================\n",
      "Total params: 25,100,046\n",
      "Trainable params: 25,100,046\n",
      "Non-trainable params: 0\n",
      "_________________________________________________________________\n"
     ]
    }
   ],
   "source": [
    "from tensorflow.keras.layers import MaxPooling2D\n",
    "\n",
    "### Create Model from scratch using Deep Learning CNN Model\n",
    "model=Sequential()\n",
    "model.add(Conv2D(filters=16,kernel_size=2,padding=\"same\",activation=\"relu\",input_shape=(224,224,3)))\n",
    "model.add(MaxPooling2D(pool_size=2))\n",
    "model.add(Conv2D(filters=32,kernel_size=2,padding=\"same\",activation =\"relu\"))\n",
    "model.add(MaxPooling2D(pool_size=2))\n",
    "model.add(Conv2D(filters=64,kernel_size=2,padding=\"same\",activation=\"relu\"))\n",
    "model.add(MaxPooling2D(pool_size=2))\n",
    "model.add(Flatten())\n",
    "model.add(Dense(500,activation=\"relu\"))\n",
    "model.add(Dense(2,activation=\"softmax\"))\n",
    "model.summary()"
   ]
  },
  {
   "cell_type": "code",
   "execution_count": 10,
   "id": "87495bcf",
   "metadata": {},
   "outputs": [],
   "source": [
    "# Applying the loss function and optimizer to the model\n",
    "model.compile(\n",
    "  loss='categorical_crossentropy',\n",
    "  optimizer='adam',\n",
    "  metrics=['accuracy']\n",
    ")"
   ]
  },
  {
   "cell_type": "code",
   "execution_count": 11,
   "id": "283eeaba",
   "metadata": {},
   "outputs": [
    {
     "name": "stdout",
     "output_type": "stream",
     "text": [
      "Found 416 images belonging to 2 classes.\n",
      "Found 134 images belonging to 2 classes.\n"
     ]
    }
   ],
   "source": [
    "# Use the Image Data Generator to import the images from the dataset\n",
    "from tensorflow.keras.preprocessing.image import ImageDataGenerator\n",
    "\n",
    "train_datagen = ImageDataGenerator(rescale = 1./255,\n",
    "                                   shear_range = 0.2,\n",
    "                                   zoom_range = 0.2,\n",
    "                                   horizontal_flip = True)\n",
    "\n",
    "test_datagen = ImageDataGenerator(rescale = 1./255)\n",
    "\n",
    "\n",
    "# Make sure you provide the same target size as initialied for the image size\n",
    "training_set = train_datagen.flow_from_directory('Malaria_Detection_Dataset/Train',\n",
    "                                                 target_size = (224, 224),\n",
    "                                                 batch_size = 32,\n",
    "                                                 class_mode = 'categorical')\n",
    "\n",
    "test_set = test_datagen.flow_from_directory('Malaria_Detection_Dataset/Test',\n",
    "                                            target_size = (224, 224),\n",
    "                                            batch_size = 32,\n",
    "                                            class_mode = 'categorical')"
   ]
  },
  {
   "cell_type": "code",
   "execution_count": 12,
   "id": "536c1b5b",
   "metadata": {},
   "outputs": [
    {
     "name": "stdout",
     "output_type": "stream",
     "text": [
      "WARNING:tensorflow:From <ipython-input-12-c525094f2b4a>:2: Model.fit_generator (from tensorflow.python.keras.engine.training) is deprecated and will be removed in a future version.\n",
      "Instructions for updating:\n",
      "Please use Model.fit, which supports generators.\n",
      "Epoch 1/50\n",
      "13/13 [==============================] - 15s 1s/step - loss: 1.9307 - accuracy: 0.5697 - val_loss: 0.6958 - val_accuracy: 0.6716\n",
      "Epoch 2/50\n",
      "13/13 [==============================] - 15s 1s/step - loss: 0.6889 - accuracy: 0.5841 - val_loss: 0.7188 - val_accuracy: 0.4851\n",
      "Epoch 3/50\n",
      "13/13 [==============================] - 17s 1s/step - loss: 0.5575 - accuracy: 0.7380 - val_loss: 0.8941 - val_accuracy: 0.4254\n",
      "Epoch 4/50\n",
      "13/13 [==============================] - 16s 1s/step - loss: 0.5453 - accuracy: 0.6851 - val_loss: 0.8689 - val_accuracy: 0.3657\n",
      "Epoch 5/50\n",
      "13/13 [==============================] - 16s 1s/step - loss: 0.4793 - accuracy: 0.7572 - val_loss: 0.8402 - val_accuracy: 0.4179\n",
      "Epoch 6/50\n",
      "13/13 [==============================] - 17s 1s/step - loss: 0.4177 - accuracy: 0.8173 - val_loss: 0.7780 - val_accuracy: 0.4254\n",
      "Epoch 7/50\n",
      "13/13 [==============================] - 16s 1s/step - loss: 0.3584 - accuracy: 0.8558 - val_loss: 0.6130 - val_accuracy: 0.5970\n",
      "Epoch 8/50\n",
      "13/13 [==============================] - 16s 1s/step - loss: 0.3326 - accuracy: 0.8413 - val_loss: 1.0621 - val_accuracy: 0.5224\n",
      "Epoch 9/50\n",
      "13/13 [==============================] - 17s 1s/step - loss: 0.2898 - accuracy: 0.8654 - val_loss: 0.5588 - val_accuracy: 0.7015\n",
      "Epoch 10/50\n",
      "13/13 [==============================] - 17s 1s/step - loss: 0.2498 - accuracy: 0.9014 - val_loss: 0.6013 - val_accuracy: 0.6791\n",
      "Epoch 11/50\n",
      "13/13 [==============================] - 16s 1s/step - loss: 0.2040 - accuracy: 0.9159 - val_loss: 0.3834 - val_accuracy: 0.7910\n",
      "Epoch 12/50\n",
      "13/13 [==============================] - 17s 1s/step - loss: 0.1933 - accuracy: 0.9447 - val_loss: 0.3985 - val_accuracy: 0.7910\n",
      "Epoch 13/50\n",
      "13/13 [==============================] - 18s 1s/step - loss: 0.1926 - accuracy: 0.9351 - val_loss: 0.8460 - val_accuracy: 0.6269\n",
      "Epoch 14/50\n",
      "13/13 [==============================] - 17s 1s/step - loss: 0.1999 - accuracy: 0.9303 - val_loss: 0.4876 - val_accuracy: 0.7836\n",
      "Epoch 15/50\n",
      "13/13 [==============================] - 17s 1s/step - loss: 0.1456 - accuracy: 0.9495 - val_loss: 0.5344 - val_accuracy: 0.7761\n",
      "Epoch 16/50\n",
      "13/13 [==============================] - 18s 1s/step - loss: 0.1461 - accuracy: 0.9519 - val_loss: 0.4058 - val_accuracy: 0.8134\n",
      "Epoch 17/50\n",
      "13/13 [==============================] - 17s 1s/step - loss: 0.1119 - accuracy: 0.9663 - val_loss: 0.3084 - val_accuracy: 0.8582\n",
      "Epoch 18/50\n",
      "13/13 [==============================] - 17s 1s/step - loss: 0.1117 - accuracy: 0.9615 - val_loss: 0.3040 - val_accuracy: 0.8284\n",
      "Epoch 19/50\n",
      "13/13 [==============================] - 18s 1s/step - loss: 0.1148 - accuracy: 0.9663 - val_loss: 0.2879 - val_accuracy: 0.8731\n",
      "Epoch 20/50\n",
      "13/13 [==============================] - 17s 1s/step - loss: 0.1019 - accuracy: 0.9639 - val_loss: 0.2848 - val_accuracy: 0.8881\n",
      "Epoch 21/50\n",
      "13/13 [==============================] - 17s 1s/step - loss: 0.0808 - accuracy: 0.9808 - val_loss: 0.4779 - val_accuracy: 0.8358\n",
      "Epoch 22/50\n",
      "13/13 [==============================] - 17s 1s/step - loss: 0.0959 - accuracy: 0.9712 - val_loss: 0.3530 - val_accuracy: 0.8582\n",
      "Epoch 23/50\n",
      "13/13 [==============================] - 17s 1s/step - loss: 0.0963 - accuracy: 0.9784 - val_loss: 0.3247 - val_accuracy: 0.8209\n",
      "Epoch 24/50\n",
      "13/13 [==============================] - 17s 1s/step - loss: 0.1200 - accuracy: 0.9639 - val_loss: 0.2454 - val_accuracy: 0.8881\n",
      "Epoch 25/50\n",
      "13/13 [==============================] - 17s 1s/step - loss: 0.0931 - accuracy: 0.9808 - val_loss: 0.3676 - val_accuracy: 0.8433\n",
      "Epoch 26/50\n",
      "13/13 [==============================] - 17s 1s/step - loss: 0.0954 - accuracy: 0.9736 - val_loss: 0.2366 - val_accuracy: 0.9030\n",
      "Epoch 27/50\n",
      "13/13 [==============================] - 17s 1s/step - loss: 0.0674 - accuracy: 0.9784 - val_loss: 0.3187 - val_accuracy: 0.8806\n",
      "Epoch 28/50\n",
      "13/13 [==============================] - 17s 1s/step - loss: 0.0908 - accuracy: 0.9760 - val_loss: 0.2255 - val_accuracy: 0.9104\n",
      "Epoch 29/50\n",
      "13/13 [==============================] - 18s 1s/step - loss: 0.0584 - accuracy: 0.9880 - val_loss: 0.2832 - val_accuracy: 0.8881\n",
      "Epoch 30/50\n",
      "13/13 [==============================] - 17s 1s/step - loss: 0.0851 - accuracy: 0.9784 - val_loss: 0.8246 - val_accuracy: 0.7537\n",
      "Epoch 31/50\n",
      "13/13 [==============================] - 17s 1s/step - loss: 0.2385 - accuracy: 0.9014 - val_loss: 0.3779 - val_accuracy: 0.8358\n",
      "Epoch 32/50\n",
      "13/13 [==============================] - 18s 1s/step - loss: 0.1434 - accuracy: 0.9495 - val_loss: 0.2796 - val_accuracy: 0.8806\n",
      "Epoch 33/50\n",
      "13/13 [==============================] - 17s 1s/step - loss: 0.0792 - accuracy: 0.9784 - val_loss: 0.3832 - val_accuracy: 0.8134\n",
      "Epoch 34/50\n",
      "13/13 [==============================] - 17s 1s/step - loss: 0.0610 - accuracy: 0.9784 - val_loss: 0.2590 - val_accuracy: 0.8955\n",
      "Epoch 35/50\n",
      "13/13 [==============================] - 18s 1s/step - loss: 0.0911 - accuracy: 0.9688 - val_loss: 0.3153 - val_accuracy: 0.8657\n",
      "Epoch 36/50\n",
      "13/13 [==============================] - 17s 1s/step - loss: 0.1596 - accuracy: 0.9423 - val_loss: 0.2718 - val_accuracy: 0.8806\n",
      "Epoch 37/50\n",
      "13/13 [==============================] - 17s 1s/step - loss: 0.0708 - accuracy: 0.9784 - val_loss: 0.2059 - val_accuracy: 0.9030\n",
      "Epoch 38/50\n",
      "13/13 [==============================] - 18s 1s/step - loss: 0.0650 - accuracy: 0.9904 - val_loss: 0.5875 - val_accuracy: 0.8358\n",
      "Epoch 39/50\n",
      "13/13 [==============================] - 17s 1s/step - loss: 0.0659 - accuracy: 0.9832 - val_loss: 0.1671 - val_accuracy: 0.9403\n",
      "Epoch 40/50\n",
      "13/13 [==============================] - 17s 1s/step - loss: 0.0503 - accuracy: 0.9928 - val_loss: 0.3435 - val_accuracy: 0.8731\n",
      "Epoch 41/50\n",
      "13/13 [==============================] - 17s 1s/step - loss: 0.0649 - accuracy: 0.9832 - val_loss: 0.3458 - val_accuracy: 0.8731\n",
      "Epoch 42/50\n",
      "13/13 [==============================] - 17s 1s/step - loss: 0.0553 - accuracy: 0.9784 - val_loss: 0.2487 - val_accuracy: 0.9104\n",
      "Epoch 43/50\n",
      "13/13 [==============================] - 17s 1s/step - loss: 0.0626 - accuracy: 0.9760 - val_loss: 0.5389 - val_accuracy: 0.8582\n",
      "Epoch 44/50\n",
      "13/13 [==============================] - 17s 1s/step - loss: 0.0644 - accuracy: 0.9784 - val_loss: 0.2295 - val_accuracy: 0.9179\n",
      "Epoch 45/50\n",
      "13/13 [==============================] - 18s 1s/step - loss: 0.0420 - accuracy: 0.9856 - val_loss: 0.2658 - val_accuracy: 0.9104\n",
      "Epoch 46/50\n",
      "13/13 [==============================] - 17s 1s/step - loss: 0.0752 - accuracy: 0.9784 - val_loss: 0.5280 - val_accuracy: 0.8582\n",
      "Epoch 47/50\n",
      "13/13 [==============================] - 17s 1s/step - loss: 0.0752 - accuracy: 0.9832 - val_loss: 0.2534 - val_accuracy: 0.9104\n",
      "Epoch 48/50\n",
      "13/13 [==============================] - 18s 1s/step - loss: 0.0454 - accuracy: 0.9904 - val_loss: 0.4706 - val_accuracy: 0.8657\n",
      "Epoch 49/50\n",
      "13/13 [==============================] - 17s 1s/step - loss: 0.0831 - accuracy: 0.9808 - val_loss: 0.3047 - val_accuracy: 0.8881\n",
      "Epoch 50/50\n",
      "13/13 [==============================] - 17s 1s/step - loss: 0.0441 - accuracy: 0.9856 - val_loss: 0.2179 - val_accuracy: 0.9179\n"
     ]
    }
   ],
   "source": [
    "# Fitting the model on to the sampled dataset\n",
    "r = model.fit_generator(\n",
    "  training_set,\n",
    "  validation_data=test_set,\n",
    "  epochs=50,\n",
    "  steps_per_epoch=len(training_set),\n",
    "  validation_steps=len(test_set)\n",
    ")\n"
   ]
  },
  {
   "cell_type": "code",
   "execution_count": 13,
   "id": "ce6cdaeb",
   "metadata": {},
   "outputs": [
    {
     "data": {
      "image/png": "[encoded data removed]",
      "text/plain": [
       "<Figure size 432x288 with 1 Axes>"
      ]
     },
     "metadata": {
      "needs_background": "light"
     },
     "output_type": "display_data"
    },
    {
     "data": {
      "text/plain": [
       "<Figure size 432x288 with 0 Axes>"
      ]
     },
     "metadata": {},
     "output_type": "display_data"
    }
   ],
   "source": [
    "# plot the loss\n",
    "plt.plot(r.history['loss'], label='train loss')\n",
    "plt.plot(r.history['val_loss'], label='val loss')\n",
    "plt.legend()\n",
    "plt.show()\n",
    "plt.savefig('LossVal_loss')"
   ]
  },
  {
   "cell_type": "code",
   "execution_count": 15,
   "id": "40049a38",
   "metadata": {},
   "outputs": [
    {
     "data": {
      "image/png": "[encoded data removed]",
      "text/plain": [
       "<Figure size 432x288 with 1 Axes>"
      ]
     },
     "metadata": {
      "needs_background": "light"
     },
     "output_type": "display_data"
    },
    {
     "data": {
      "text/plain": [
       "<Figure size 432x288 with 0 Axes>"
      ]
     },
     "metadata": {},
     "output_type": "display_data"
    }
   ],
   "source": [
    "# plot the accuracy\n",
    "plt.plot(r.history['accuracy'], label='train acc')\n",
    "plt.plot(r.history['val_accuracy'], label='val acc')\n",
    "plt.legend()\n",
    "plt.show()\n",
    "plt.savefig('AccVal_acc')"
   ]
  },
  {
   "cell_type": "code",
   "execution_count": 16,
   "id": "dbc4aa8e",
   "metadata": {},
   "outputs": [],
   "source": [
    "# save it as a h5 file\n",
    "from tensorflow.keras.models import load_model\n",
    "model.save('model_vgg19.h5')"
   ]
  },
  {
   "cell_type": "code",
   "execution_count": 17,
   "id": "d4ecdebb",
   "metadata": {},
   "outputs": [],
   "source": [
    "y_pred = model.predict(test_set)"
   ]
  },
  {
   "cell_type": "code",
   "execution_count": 18,
   "id": "96ac058f",
   "metadata": {},
   "outputs": [
    {
     "data": {
      "text/plain": [
       "array([[9.99794543e-01, 2.05507924e-04],\n",
       "       [1.00000000e+00, 4.89639718e-10],\n",
       "       [1.41955893e-02, 9.85804439e-01],\n",
       "       [9.99999881e-01, 1.21948460e-07],\n",
       "       [1.00000000e+00, 1.95924184e-08],\n",
       "       [1.00000000e+00, 3.54476787e-37],\n",
       "       [1.00000000e+00, 1.58802460e-36],\n",
       "       [9.99999881e-01, 1.17606639e-07],\n",
       "       [1.00000000e+00, 8.80709344e-20],\n",
       "       [9.99999642e-01, 3.35252849e-07],\n",
       "       [1.00000000e+00, 1.16620731e-08],\n",
       "       [1.00000000e+00, 2.31551914e-15],\n",
       "       [1.00000000e+00, 3.06101912e-22],\n",
       "       [1.35145290e-02, 9.86485481e-01],\n",
       "       [1.53967189e-02, 9.84603226e-01],\n",
       "       [1.00000000e+00, 5.31840172e-08],\n",
       "       [3.00215669e-02, 9.69978392e-01],\n",
       "       [1.00000000e+00, 1.60051072e-09],\n",
       "       [9.99910235e-01, 8.97914360e-05],\n",
       "       [8.86890531e-01, 1.13109492e-01],\n",
       "       [3.42026763e-02, 9.65797246e-01],\n",
       "       [1.09598348e-02, 9.89040136e-01],\n",
       "       [9.99987960e-01, 1.20634722e-05],\n",
       "       [1.00000000e+00, 1.89750299e-12],\n",
       "       [2.82978695e-02, 9.71702099e-01],\n",
       "       [6.40244722e-01, 3.59755278e-01],\n",
       "       [3.35592963e-02, 9.66440737e-01],\n",
       "       [1.00000000e+00, 2.86782464e-09],\n",
       "       [4.72976379e-02, 9.52702343e-01],\n",
       "       [1.00000000e+00, 7.44792943e-12],\n",
       "       [1.00000000e+00, 3.43981321e-21],\n",
       "       [9.99997258e-01, 2.69650536e-06],\n",
       "       [1.00000000e+00, 4.60950450e-18],\n",
       "       [1.00000000e+00, 1.30233809e-13],\n",
       "       [9.99999166e-01, 8.20912987e-07],\n",
       "       [9.99991894e-01, 8.16156626e-06],\n",
       "       [9.44488775e-03, 9.90555108e-01],\n",
       "       [4.34770510e-02, 9.56523001e-01],\n",
       "       [1.00000000e+00, 1.46454515e-10],\n",
       "       [1.00000000e+00, 1.39072347e-12],\n",
       "       [1.27122309e-02, 9.87287760e-01],\n",
       "       [4.33408609e-03, 9.95665967e-01],\n",
       "       [1.00000000e+00, 3.95556363e-13],\n",
       "       [1.14606582e-02, 9.88539279e-01],\n",
       "       [6.52455017e-02, 9.34754431e-01],\n",
       "       [1.00000000e+00, 2.39395526e-09],\n",
       "       [9.99999881e-01, 1.60798592e-07],\n",
       "       [1.00000000e+00, 7.02531011e-09],\n",
       "       [3.26484628e-02, 9.67351496e-01],\n",
       "       [6.65584654e-02, 9.33441579e-01],\n",
       "       [9.99999762e-01, 2.61283276e-07],\n",
       "       [1.00000000e+00, 5.91737432e-08],\n",
       "       [9.99992728e-01, 7.27008273e-06],\n",
       "       [1.00000000e+00, 4.38849124e-10],\n",
       "       [1.00000000e+00, 2.66767485e-18],\n",
       "       [9.99966860e-01, 3.30816183e-05],\n",
       "       [6.76574707e-01, 3.23425353e-01],\n",
       "       [2.76087746e-02, 9.72391188e-01],\n",
       "       [1.00000000e+00, 3.52874605e-11],\n",
       "       [1.88354373e-01, 8.11645687e-01],\n",
       "       [9.99998212e-01, 1.84375085e-06],\n",
       "       [1.19716860e-02, 9.88028288e-01],\n",
       "       [1.00000000e+00, 2.87332105e-17],\n",
       "       [9.99999404e-01, 5.60862588e-07],\n",
       "       [3.74234468e-02, 9.62576509e-01],\n",
       "       [9.98925269e-01, 1.07474020e-03],\n",
       "       [9.44175571e-03, 9.90558267e-01],\n",
       "       [1.00000000e+00, 4.86186202e-10],\n",
       "       [9.99998808e-01, 1.21361325e-06],\n",
       "       [4.19834316e-01, 5.80165684e-01],\n",
       "       [1.00000000e+00, 2.53589221e-08],\n",
       "       [4.40340936e-02, 9.55965877e-01],\n",
       "       [9.99999762e-01, 2.68517084e-07],\n",
       "       [9.99999881e-01, 6.06979782e-08],\n",
       "       [9.94739950e-01, 5.26001817e-03],\n",
       "       [1.00000000e+00, 8.25957081e-10],\n",
       "       [1.00000000e+00, 2.04264367e-15],\n",
       "       [9.84721959e-01, 1.52780060e-02],\n",
       "       [1.00000000e+00, 4.86690244e-09],\n",
       "       [9.99981999e-01, 1.79786657e-05],\n",
       "       [7.84424245e-02, 9.21557605e-01],\n",
       "       [2.37656325e-01, 7.62343705e-01],\n",
       "       [1.00000000e+00, 1.11518030e-08],\n",
       "       [1.40219554e-02, 9.85978127e-01],\n",
       "       [2.21667066e-01, 7.78332949e-01],\n",
       "       [1.00000000e+00, 3.36138886e-12],\n",
       "       [5.30881956e-02, 9.46911752e-01],\n",
       "       [3.97294998e-01, 6.02704942e-01],\n",
       "       [9.99990821e-01, 9.15561304e-06],\n",
       "       [9.99999762e-01, 1.85884105e-07],\n",
       "       [1.00000000e+00, 9.34310740e-10],\n",
       "       [1.00000000e+00, 1.70359038e-37],\n",
       "       [1.34046879e-02, 9.86595392e-01],\n",
       "       [2.66889613e-02, 9.73311067e-01],\n",
       "       [7.01664435e-03, 9.92983341e-01],\n",
       "       [9.01958108e-01, 9.80419368e-02],\n",
       "       [7.64522608e-03, 9.92354751e-01],\n",
       "       [1.00000000e+00, 4.03343115e-33],\n",
       "       [9.99659657e-01, 3.40306025e-04],\n",
       "       [6.47100881e-02, 9.35289919e-01],\n",
       "       [7.98423737e-02, 9.20157671e-01],\n",
       "       [2.55331602e-02, 9.74466801e-01],\n",
       "       [4.68745045e-02, 9.53125477e-01],\n",
       "       [1.73428670e-01, 8.26571345e-01],\n",
       "       [1.00000000e+00, 4.10379286e-10],\n",
       "       [4.98337522e-02, 9.50166225e-01],\n",
       "       [9.99995947e-01, 4.06522167e-06],\n",
       "       [1.17940875e-02, 9.88205910e-01],\n",
       "       [1.00000000e+00, 1.29763019e-12],\n",
       "       [1.00000000e+00, 3.06832671e-14],\n",
       "       [1.00000000e+00, 3.43822161e-16],\n",
       "       [1.00000000e+00, 8.40213499e-09],\n",
       "       [1.20740794e-02, 9.87925887e-01],\n",
       "       [1.42636457e-02, 9.85736310e-01],\n",
       "       [1.00000000e+00, 4.52611893e-30],\n",
       "       [9.59105611e-01, 4.08943482e-02],\n",
       "       [1.83388945e-02, 9.81661081e-01],\n",
       "       [2.06407741e-01, 7.93592215e-01],\n",
       "       [1.00000000e+00, 2.97766656e-09],\n",
       "       [7.92714894e-01, 2.07285091e-01],\n",
       "       [3.36521834e-01, 6.63478196e-01],\n",
       "       [7.24189682e-03, 9.92758036e-01],\n",
       "       [7.52133355e-02, 9.24786627e-01],\n",
       "       [1.99914929e-02, 9.80008483e-01],\n",
       "       [1.95065737e-01, 8.04934263e-01],\n",
       "       [1.00000000e+00, 1.74070416e-17],\n",
       "       [9.99991059e-01, 8.92073876e-06],\n",
       "       [1.00000000e+00, 8.03552916e-13],\n",
       "       [1.00000000e+00, 2.27244268e-09],\n",
       "       [7.46184774e-03, 9.92538154e-01],\n",
       "       [1.00000000e+00, 2.89912910e-24],\n",
       "       [1.00000000e+00, 3.17668272e-16],\n",
       "       [1.36890020e-02, 9.86311018e-01],\n",
       "       [1.00000000e+00, 7.12491710e-19]], dtype=float32)"
      ]
     },
     "execution_count": 18,
     "metadata": {},
     "output_type": "execute_result"
    }
   ],
   "source": [
    "y_pred"
   ]
  },
  {
   "cell_type": "code",
   "execution_count": 19,
   "id": "5743f426",
   "metadata": {},
   "outputs": [],
   "source": [
    "import numpy as np\n",
    "y_pred = np.argmax(y_pred, axis = 1)"
   ]
  },
  {
   "cell_type": "code",
   "execution_count": 20,
   "id": "34fc22e4",
   "metadata": {},
   "outputs": [
    {
     "data": {
      "text/plain": [
       "array([0, 0, 1, 0, 0, 0, 0, 0, 0, 0, 0, 0, 0, 1, 1, 0, 1, 0, 0, 0, 1, 1,\n",
       "       0, 0, 1, 0, 1, 0, 1, 0, 0, 0, 0, 0, 0, 0, 1, 1, 0, 0, 1, 1, 0, 1,\n",
       "       1, 0, 0, 0, 1, 1, 0, 0, 0, 0, 0, 0, 0, 1, 0, 1, 0, 1, 0, 0, 1, 0,\n",
       "       1, 0, 0, 1, 0, 1, 0, 0, 0, 0, 0, 0, 0, 0, 1, 1, 0, 1, 1, 0, 1, 1,\n",
       "       0, 0, 0, 0, 1, 1, 1, 0, 1, 0, 0, 1, 1, 1, 1, 1, 0, 1, 0, 1, 0, 0,\n",
       "       0, 0, 1, 1, 0, 0, 1, 1, 0, 0, 1, 1, 1, 1, 1, 0, 0, 0, 0, 1, 0, 0,\n",
       "       1, 0], dtype=int64)"
      ]
     },
     "execution_count": 20,
     "metadata": {},
     "output_type": "execute_result"
    }
   ],
   "source": [
    "y_pred"
   ]
  },
  {
   "cell_type": "code",
   "execution_count": 21,
   "id": "545a34e4",
   "metadata": {},
   "outputs": [],
   "source": [
    "from tensorflow.keras.models import load_model\n",
    "from tensorflow.keras.preprocessing import image\n",
    "\n",
    "model = load_model('model_vgg19.h5')"
   ]
  },
  {
   "cell_type": "code",
   "execution_count": 22,
   "id": "a04be4b8",
   "metadata": {},
   "outputs": [
    {
     "data": {
      "text/plain": [
       "(224, 224, 3)"
      ]
     },
     "execution_count": 22,
     "metadata": {},
     "output_type": "execute_result"
    }
   ],
   "source": [
    "img=image.load_img('Malaria_Detection_Dataset/Test/Uninfected/MDTestU (12).png',target_size=(224,224))\n",
    "x=image.img_to_array(img)\n",
    "x\n",
    "x.shape"
   ]
  },
  {
   "cell_type": "code",
   "execution_count": 23,
   "id": "8d74ce4a",
   "metadata": {},
   "outputs": [
    {
     "data": {
      "text/plain": [
       "(1, 224, 224, 3)"
      ]
     },
     "execution_count": 23,
     "metadata": {},
     "output_type": "execute_result"
    }
   ],
   "source": [
    "# Reshape and preprocess the extracted values of the image\n",
    "x = x/255\n",
    "x = np.expand_dims(x, axis=0)\n",
    "img_data = preprocess_input(x)\n",
    "img_data.shape"
   ]
  },
  {
   "cell_type": "code",
   "execution_count": 24,
   "id": "cb8dc789",
   "metadata": {},
   "outputs": [
    {
     "name": "stdout",
     "output_type": "stream",
     "text": [
      "Symptoms of Uninfected Conditions\n"
     ]
    }
   ],
   "source": [
    "# Predicting the states of the test image\n",
    "model.predict(img_data)\n",
    "a = np.argmax(model.predict(img_data), axis=1)\n",
    "if(a==1):\n",
    "    print(\"Symptoms of Uninfected Conditions\")\n",
    "else:\n",
    "    print(\"Symptoms of Infected Conditions\")"
   ]
  },
  {
   "cell_type": "code",
   "execution_count": null,
   "id": "25b3fd50",
   "metadata": {},
   "outputs": [],
   "source": []
  }
 ],
 "metadata": {
  "kernelspec": {
   "display_name": "Python 3",
   "language": "python",
   "name": "python3"
  },
  "language_info": {
   "codemirror_mode": {
    "name": "ipython",
    "version": 3
   },
   "file_extension": ".py",
   "mimetype": "text/x-python",
   "name": "python",
   "nbconvert_exporter": "python",
   "pygments_lexer": "ipython3",
   "version": "3.8.8"
  }
 },
 "nbformat": 4,
 "nbformat_minor": 5
}
